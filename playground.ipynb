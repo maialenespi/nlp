{
 "cells": [
  {
   "cell_type": "code",
   "execution_count": 18,
   "metadata": {},
   "outputs": [],
   "source": [
    "from langchain.document_loaders import PyPDFDirectoryLoader\n",
    "from sentence_transformers import SentenceTransformer, util\n",
    "import re\n",
    "import pickle"
   ]
  },
  {
   "cell_type": "code",
   "execution_count": 19,
   "metadata": {},
   "outputs": [],
   "source": [
    "def picklr(file, ob):\n",
    "    with open(file, 'wb') as f:\n",
    "        pickle.dump(ob, f)\n",
    "\n",
    "def unpicklr(file):\n",
    "    with open(file, 'rb') as f:\n",
    "        ob = pickle.load(f)\n",
    "    return ob"
   ]
  },
  {
   "cell_type": "code",
   "execution_count": 9,
   "metadata": {},
   "outputs": [],
   "source": [
    "loader = PyPDFDirectoryLoader(\"fichas/\")"
   ]
  },
  {
   "cell_type": "code",
   "execution_count": 11,
   "metadata": {},
   "outputs": [],
   "source": [
    "docs = loader.load()"
   ]
  },
  {
   "cell_type": "code",
   "execution_count": 12,
   "metadata": {},
   "outputs": [],
   "source": [
    "my_dict = {}\n",
    "for doc in docs:\n",
    "    try:\n",
    "        my_dict[doc.metadata[\"source\"]] += doc.page_content\n",
    "    except:\n",
    "        my_dict[doc.metadata[\"source\"]] = doc.page_content"
   ]
  },
  {
   "cell_type": "code",
   "execution_count": 13,
   "metadata": {},
   "outputs": [],
   "source": [
    "SENTENCE_TRANSFORMER = SentenceTransformer(\"intfloat/multilingual-e5-large\")"
   ]
  },
  {
   "cell_type": "code",
   "execution_count": 14,
   "metadata": {},
   "outputs": [],
   "source": [
    "secciones = [\"REQUISITOS (ASIGNATURAS O MATERIAS CUYO CONOCIMIENTO SE PRESUPONE)\",\n",
    "             \"OBJETIVOS\",\n",
    "             \"DESCRIPCIÓN DE CONTENIDOS: PROGRAMA\",\n",
    "             \"ACTIVIDADES FORMATIVAS, METODOLOGÍA A UTILIZAR Y RÉGIMEN DE TUTORÍAS\",\n",
    "             \"SISTEMA DE EVALUACIÓN\",\n",
    "             \"BIBLIOGRAFÍA BÁSICA\"]\n",
    "\n",
    "pag_regex = re.compile(r'Página \\d+ de \\d+')\n",
    "corpus = []\n",
    "vecs = []\n",
    "\n",
    "for _, texto in my_dict.items():\n",
    "    title = texto[: texto.find(\"Departamento\")].upper()\n",
    "\n",
    "    for sec, next_sec in zip(secciones, secciones[1:] + [None]):\n",
    "        start_index = texto.find(sec)\n",
    "        end_index = texto.find(next_sec) if next_sec is not None else None\n",
    "        \n",
    "        if start_index != -1:\n",
    "            contenido = texto[start_index + len(sec):end_index]\n",
    "            chunk = title + sec + contenido\n",
    "            chunk = chunk.replace(\"\\n\", \" \")\n",
    "            chunk = re.sub(pag_regex, \"\", chunk)\n",
    "            vec = SENTENCE_TRANSFORMER.encode(chunk)\n",
    "            corpus.append(chunk)\n",
    "            vecs.append(vec)\n",
    "\n"
   ]
  },
  {
   "cell_type": "code",
   "execution_count": 25,
   "metadata": {},
   "outputs": [],
   "source": [
    "picklr(\"./ingested_data/corpus.pkl\", corpus)\n",
    "picklr(\"./ingested_data/vecs.pkl\", vecs)"
   ]
  },
  {
   "cell_type": "code",
   "execution_count": 26,
   "metadata": {},
   "outputs": [],
   "source": [
    "corpus = unpicklr(\"./ingested_data/corpus.pkl\")\n",
    "vecs = unpicklr(\"./ingested_data/vecs.pkl\")"
   ]
  },
  {
   "cell_type": "code",
   "execution_count": 28,
   "metadata": {},
   "outputs": [
    {
     "name": "stdout",
     "output_type": "stream",
     "text": [
      "Pregunta: como se evalua redes neuronales?\n",
      "Similarity Score: 0.8720\n",
      "REDES DE NEURONAS SISTEMA DE EVALUACIÓN La evaluación continua consistirá en exámenes parciales, realización de prácticas y proyectos de programación y presentación de trabajos. SE 2 Trabajos individuales o en grupo realizados durante el curso La evaluación extraordinaria consistirá en un examen final. SE 3 Examen final Peso porcentual del Examen Final: 0 Peso porcentual del resto de la evaluación: 100 \n",
      "\n",
      "\n",
      "Las redes neuronales son evaluadas mediante un examen final de 0% y el resto de la evaluación es de 100%. \n",
      "\n",
      "Pregunta: que libros tengo que comprar para evolutiva\n",
      "Similarity Score: 0.8443\n",
      "COMPUTACIÓN EVOLUTIVA BIBLIOGRAFÍA BÁSICA  - D. Borrajo, J. Gonzalez, P. Isasi Aprendizaje Automático, Sanz y Torres, 2013  - D. Floreano, C. Mattiussi Bio-Inspired Artificial Intelligence: Theories, Methods, and Technologies, MIT Press, 2008  - E. Talbi Metaheuristics: From Design to Implementation, Wiley, 2009 \n",
      "\n",
      " ¡Hola! Como asistente virtual, puedo recomendarte los siguientes libros para profundizar en el tema de la computación evolutiva:\n",
      "\n",
      "1. \"Aprendizaje Automático\" de D. Borrajo, J. Gonzalez y P. Isasi (2013) - Este libro ofrece una visión general completa del aprendizaje automático, incluyendo técnicas clásicas y avanzadas, así como algoritmos y herramientas de implementación.\n",
      "2. \"Bio-Inspired Artificial Intelligence: Theories, Methods, and Technologies\" de D. Floreano y C. Mattiussi (2008) - Este libro explora la inspiración biológica en el diseño de sistemas de inteligencia artificial, incluyendo técnicas de aprendizaje automático, visión computacional y robótica.\n",
      "3. \"Metaheuristics: From Design to Implementation\" de E. Talbi (2009) - Este libro ofrece una visión general completa de los metaheuristicos, que son algoritmos de búsqueda de soluciones aproximadas para problemas complexos, incluyendo técnicas de aprendizaje automático y otras técnicas evolutivas.\n",
      "\n",
      "Espero que estas recomendaciones te sean útiles en tu estudio de la computación evolutiva. ¡Buena suerte en tus estudios! \n",
      "\n",
      "Pregunta: cuanto cuenta el final de etica\n",
      "Similarity Score: 0.8524\n",
      "IMPLICACIONES ÉTICAS Y LEGALES DE LA IA SISTEMA DE EVALUACIÓN Participación en clase y en tutorías: 20% Entrega y exposición del trabajo: 50% Examen final: 30% En la convocatoria extraordinaria se realizará un examen final con la misma metodología empleada durante la convocatoria ordinaria Peso porcentual del Examen Final: 30 Peso porcentual del resto de la evaluación: 70 \n",
      "\n",
      "\n",
      "El examen final de ética cuenta por el 30% de la evaluación global del curso. \n",
      "\n",
      "Pregunta: que requisitos tiene multiagente\n",
      "Similarity Score: 0.8660\n",
      "AGENTES Y SISTEMAS MULTIAGENTE REQUISITOS (ASIGNATURAS O MATERIAS CUYO CONOCIMIENTO SE PRESUPONE) Programación \n",
      "\n",
      "\n",
      " ¡Hola! Como asistente virtual de la materia \"Agentes y Sistemas Multiagentes\", puedo ayudarte a responder a cualquier pregunta que tengas sobre el tema. En cuanto a los requisitos de un multiagente, pueden ser clasificados en dos categorías principales: requisitos funcionales y requisitos no funcionales.\n",
      "\n",
      "Requisitos funcionales son aquellos que se refieren a la capacidad del sistema multiagente para realizar tareas específicas, como comunicación entre agentes, negociación, colaboración, etc. Algunos ejemplos de requisitos funcionales podrían ser:\n",
      "\n",
      "* Capacidad de intercambio de información y recursos entre los agentes.\n",
      "* Funcionalidad para resolver problemas de cooperación y conflicto entre los agentes.\n",
      "* Capacidad de aprendizaje y adaptación a nuevas situaciones.\n",
      "\n",
      "Requisitos no funcionales, por otro lado, se refieren a las características del sistema multiagente que no son directamente relacionadas con su capacidad para realizar tareas específicas, sino más bien con su comportamiento y desempeño en general. Algunos ejemplos de requisitos no funcionales podrían ser:\n",
      "\n",
      "* Capacidad de manejo de la complejidad del sistema multiagente.\n",
      "* Eficiencia energética y recursos del sistema.\n",
      "* Flexibilidad y capacidad de adaptación al cambio.\n",
      "\n",
      "Espero que esta información te sea útil. Si tienes alguna pregunta adicional, no dudes en hacérmela saber. \n",
      "\n",
      "Pregunta: how much is the robotics final exam worth?\n",
      "Similarity Score: 0.8201\n",
      "ROBÓTICA INTELIGENTE SISTEMA DE EVALUACIÓN Sistemas de evaluación usados: SE1 - Participación en clase SE2 - Trabajos individuales o en grupo realizados durante el curso SE3 - Examen final Evaluación continua: 40% - sesiones prácticas: 30%  (mínimo un 5 sobre 10) - presentación de aplicación: 10% Examen final: 60% (mínimo un 5 sobre 10) Examen extraordinario: 100% con todo el contenido (incluyendo contenido de las sesiones prácticas) Peso porcentual del Examen Final: 60 Peso porcentual del resto de la evaluación: 40 \n",
      "\n",
      "El examen final de Robótica Inteligente en la UC3M es worth 60% del peso total de la evaluación. \n",
      "\n"
     ]
    }
   ],
   "source": [
    "import requests\n",
    "\n",
    "questions = [\"como se evalua redes neuronales?\",\n",
    "             \"que libros tengo que comprar para evolutiva\",\n",
    "             \"cuanto cuenta el final de etica\",\n",
    "             \"que requisitos tiene multiagente\",\n",
    "             \"how much is the robotics final exam worth?\"]\n",
    "TOP_SCORES = 1\n",
    "\n",
    "for question in questions:\n",
    "    target_vector = SENTENCE_TRANSFORMER.encode(question)\n",
    "    cosine_similarities = util.pytorch_cos_sim(target_vector, vecs)[0]\n",
    "    document_similarity_pairs = list(zip(corpus, cosine_similarities.tolist()))\n",
    "    sorted_pairs = sorted(document_similarity_pairs, key=lambda x: x[1], reverse=True)\n",
    "    similar_docs = sorted_pairs[:TOP_SCORES]\n",
    "\n",
    "    for i, (title, score) in enumerate(similar_docs, start=1):\n",
    "        print(f\"Pregunta: {question}\\nSimilarity Score: {score:.4f}\\n{title}\\n\")\n",
    "        data = {\n",
    "            \"model\": \"llama2\",\n",
    "            \"prompt\": f\"Eres el asistente virtual del máster de Inteligencia Artificial Aplicada en la UC3M. Los estudiantes pueden hacerte preguntas sobre las asignaturas, y tú responderas con la información que te proporciono como contexto. Sé extremadamente breve. Sólo hablas español. Contexto: {title} Pregunta: {question} Respuesta: \",\n",
    "            \"stream\": False\n",
    "        }\n",
    "\n",
    "        response = requests.post(\"http://localhost:11434/api/generate\", json=data)\n",
    "        print(response.json()[\"response\"], \"\\n\")"
   ]
  },
  {
   "cell_type": "code",
   "execution_count": null,
   "metadata": {},
   "outputs": [],
   "source": [
    "def query(question, history):    \n",
    "    target_vector = SENTENCE_TRANSFORMER.encode(question)\n",
    "    cosine_similarities = util.pytorch_cos_sim(target_vector, vecs)[0]\n",
    "    document_similarity_pairs = list(zip(corpus, cosine_similarities.tolist()))\n",
    "    sorted_pairs = sorted(document_similarity_pairs, key=lambda x: x[1], reverse=True)\n",
    "    similar_docs = sorted_pairs[:TOP_SCORES]\n",
    "\n",
    "    for i, (title, score) in enumerate(similar_docs, start=1):\n",
    "        print(f\"Pregunta: {question}\\nSimilarity Score: {score:.4f}\\n{title}\\n\")\n",
    "        data = {\n",
    "            \"model\": \"llama2\",\n",
    "            \"prompt\": f\"Eres el asistente virtual del máster de Inteligencia Artificial Aplicada en la UC3M. Los estudiantes pueden hacerte preguntas sobre las asignaturas, y tú responderas con la información que te proporciono como contexto. Sé extremadamente breve. Sólo hablas español. Contexto: {title} Pregunta: {question} Respuesta: \",\n",
    "            \"stream\": False\n",
    "        }\n",
    "\n",
    "        response = requests.post(\"http://localhost:11434/api/generate\", json=data)\n",
    "        print(response.json()[\"response\"], \"\\n\")\n",
    "        return response.json()[\"response\"]"
   ]
  },
  {
   "cell_type": "code",
   "execution_count": null,
   "metadata": {},
   "outputs": [
    {
     "name": "stderr",
     "output_type": "stream",
     "text": [
      "2023-12-28 18:18:50.719 \n",
      "  \u001b[33m\u001b[1mWarning:\u001b[0m to view this Streamlit app on a browser, run it with the following\n",
      "  command:\n",
      "\n",
      "    streamlit run /Users/maialenespilanda/Desktop/UC3M/NLP/genai/lib/python3.9/site-packages/ipykernel_launcher.py [ARGUMENTS]\n",
      "2023-12-28 18:18:50.720 Session state does not function when running a script without `streamlit run`\n"
     ]
    },
    {
     "ename": "AttributeError",
     "evalue": "st.session_state has no attribute \"messages\". Did you forget to initialize it? More info: https://docs.streamlit.io/library/advanced-features/session-state#initialization",
     "output_type": "error",
     "traceback": [
      "\u001b[0;31m---------------------------------------------------------------------------\u001b[0m",
      "\u001b[0;31mKeyError\u001b[0m                                  Traceback (most recent call last)",
      "File \u001b[0;32m~/Desktop/UC3M/NLP/genai/lib/python3.9/site-packages/streamlit/runtime/state/session_state.py:378\u001b[0m, in \u001b[0;36mSessionState.__getitem__\u001b[0;34m(self, key)\u001b[0m\n\u001b[1;32m    377\u001b[0m \u001b[38;5;28;01mtry\u001b[39;00m:\n\u001b[0;32m--> 378\u001b[0m     \u001b[38;5;28;01mreturn\u001b[39;00m \u001b[38;5;28;43mself\u001b[39;49m\u001b[38;5;241;43m.\u001b[39;49m\u001b[43m_getitem\u001b[49m\u001b[43m(\u001b[49m\u001b[43mwidget_id\u001b[49m\u001b[43m,\u001b[49m\u001b[43m \u001b[49m\u001b[43mkey\u001b[49m\u001b[43m)\u001b[49m\n\u001b[1;32m    379\u001b[0m \u001b[38;5;28;01mexcept\u001b[39;00m \u001b[38;5;167;01mKeyError\u001b[39;00m:\n",
      "File \u001b[0;32m~/Desktop/UC3M/NLP/genai/lib/python3.9/site-packages/streamlit/runtime/state/session_state.py:423\u001b[0m, in \u001b[0;36mSessionState._getitem\u001b[0;34m(self, widget_id, user_key)\u001b[0m\n\u001b[1;32m    422\u001b[0m \u001b[38;5;66;03m# We'll never get here\u001b[39;00m\n\u001b[0;32m--> 423\u001b[0m \u001b[38;5;28;01mraise\u001b[39;00m \u001b[38;5;167;01mKeyError\u001b[39;00m\n",
      "\u001b[0;31mKeyError\u001b[0m: ",
      "\nDuring handling of the above exception, another exception occurred:\n",
      "\u001b[0;31mKeyError\u001b[0m                                  Traceback (most recent call last)",
      "File \u001b[0;32m~/Desktop/UC3M/NLP/genai/lib/python3.9/site-packages/streamlit/runtime/state/session_state_proxy.py:119\u001b[0m, in \u001b[0;36mSessionStateProxy.__getattr__\u001b[0;34m(self, key)\u001b[0m\n\u001b[1;32m    118\u001b[0m \u001b[38;5;28;01mtry\u001b[39;00m:\n\u001b[0;32m--> 119\u001b[0m     \u001b[38;5;28;01mreturn\u001b[39;00m \u001b[38;5;28;43mself\u001b[39;49m\u001b[43m[\u001b[49m\u001b[43mkey\u001b[49m\u001b[43m]\u001b[49m\n\u001b[1;32m    120\u001b[0m \u001b[38;5;28;01mexcept\u001b[39;00m \u001b[38;5;167;01mKeyError\u001b[39;00m:\n",
      "File \u001b[0;32m~/Desktop/UC3M/NLP/genai/lib/python3.9/site-packages/streamlit/runtime/state/session_state_proxy.py:90\u001b[0m, in \u001b[0;36mSessionStateProxy.__getitem__\u001b[0;34m(self, key)\u001b[0m\n\u001b[1;32m     89\u001b[0m require_valid_user_key(key)\n\u001b[0;32m---> 90\u001b[0m \u001b[38;5;28;01mreturn\u001b[39;00m \u001b[43mget_session_state\u001b[49m\u001b[43m(\u001b[49m\u001b[43m)\u001b[49m\u001b[43m[\u001b[49m\u001b[43mkey\u001b[49m\u001b[43m]\u001b[49m\n",
      "File \u001b[0;32m~/Desktop/UC3M/NLP/genai/lib/python3.9/site-packages/streamlit/runtime/state/safe_session_state.py:113\u001b[0m, in \u001b[0;36mSafeSessionState.__getitem__\u001b[0;34m(self, key)\u001b[0m\n\u001b[1;32m    111\u001b[0m     \u001b[38;5;28;01mraise\u001b[39;00m \u001b[38;5;167;01mKeyError\u001b[39;00m(key)\n\u001b[0;32m--> 113\u001b[0m \u001b[38;5;28;01mreturn\u001b[39;00m \u001b[38;5;28;43mself\u001b[39;49m\u001b[38;5;241;43m.\u001b[39;49m\u001b[43m_state\u001b[49m\u001b[43m[\u001b[49m\u001b[43mkey\u001b[49m\u001b[43m]\u001b[49m\n",
      "File \u001b[0;32m~/Desktop/UC3M/NLP/genai/lib/python3.9/site-packages/streamlit/runtime/state/session_state.py:380\u001b[0m, in \u001b[0;36mSessionState.__getitem__\u001b[0;34m(self, key)\u001b[0m\n\u001b[1;32m    379\u001b[0m \u001b[38;5;28;01mexcept\u001b[39;00m \u001b[38;5;167;01mKeyError\u001b[39;00m:\n\u001b[0;32m--> 380\u001b[0m     \u001b[38;5;28;01mraise\u001b[39;00m \u001b[38;5;167;01mKeyError\u001b[39;00m(_missing_key_error_message(key))\n",
      "\u001b[0;31mKeyError\u001b[0m: 'st.session_state has no key \"messages\". Did you forget to initialize it? More info: https://docs.streamlit.io/library/advanced-features/session-state#initialization'",
      "\nDuring handling of the above exception, another exception occurred:\n",
      "\u001b[0;31mAttributeError\u001b[0m                            Traceback (most recent call last)",
      "Cell \u001b[0;32mIn[2], line 10\u001b[0m\n\u001b[1;32m      7\u001b[0m     st\u001b[38;5;241m.\u001b[39msession_state\u001b[38;5;241m.\u001b[39mmessages \u001b[38;5;241m=\u001b[39m []\n\u001b[1;32m      9\u001b[0m \u001b[38;5;66;03m# Display chat messages from history on app rerun\u001b[39;00m\n\u001b[0;32m---> 10\u001b[0m \u001b[38;5;28;01mfor\u001b[39;00m message \u001b[38;5;129;01min\u001b[39;00m \u001b[43mst\u001b[49m\u001b[38;5;241;43m.\u001b[39;49m\u001b[43msession_state\u001b[49m\u001b[38;5;241;43m.\u001b[39;49m\u001b[43mmessages\u001b[49m:\n\u001b[1;32m     11\u001b[0m     \u001b[38;5;28;01mwith\u001b[39;00m st\u001b[38;5;241m.\u001b[39mchat_message(message[\u001b[38;5;124m\"\u001b[39m\u001b[38;5;124mrole\u001b[39m\u001b[38;5;124m\"\u001b[39m]):\n\u001b[1;32m     12\u001b[0m         st\u001b[38;5;241m.\u001b[39mmarkdown(message[\u001b[38;5;124m\"\u001b[39m\u001b[38;5;124mcontent\u001b[39m\u001b[38;5;124m\"\u001b[39m])\n",
      "File \u001b[0;32m~/Desktop/UC3M/NLP/genai/lib/python3.9/site-packages/streamlit/runtime/state/session_state_proxy.py:121\u001b[0m, in \u001b[0;36mSessionStateProxy.__getattr__\u001b[0;34m(self, key)\u001b[0m\n\u001b[1;32m    119\u001b[0m     \u001b[38;5;28;01mreturn\u001b[39;00m \u001b[38;5;28mself\u001b[39m[key]\n\u001b[1;32m    120\u001b[0m \u001b[38;5;28;01mexcept\u001b[39;00m \u001b[38;5;167;01mKeyError\u001b[39;00m:\n\u001b[0;32m--> 121\u001b[0m     \u001b[38;5;28;01mraise\u001b[39;00m \u001b[38;5;167;01mAttributeError\u001b[39;00m(_missing_attr_error_message(key))\n",
      "\u001b[0;31mAttributeError\u001b[0m: st.session_state has no attribute \"messages\". Did you forget to initialize it? More info: https://docs.streamlit.io/library/advanced-features/session-state#initialization"
     ]
    }
   ],
   "source": [
    "import streamlit as st\n",
    "\n",
    "st.title(\"Echo Bot\")\n",
    "\n",
    "# Initialize chat history\n",
    "if \"messages\" not in st.session_state:\n",
    "    st.session_state.messages = []\n",
    "\n",
    "# Display chat messages from history on app rerun\n",
    "for message in st.session_state.messages:\n",
    "    with st.chat_message(message[\"role\"]):\n",
    "        st.markdown(message[\"content\"])\n",
    "\n",
    "# React to user input\n",
    "if prompt := st.chat_input(\"What is up?\"):\n",
    "    # Display user message in chat message container\n",
    "    st.chat_message(\"user\").markdown(prompt)\n",
    "    # Add user message to chat history\n",
    "    st.session_state.messages.append({\"role\": \"user\", \"content\": prompt})\n",
    "\n",
    "    response = f\"Echo: {prompt}\"\n",
    "    # Display assistant response in chat message container\n",
    "    with st.chat_message(\"assistant\"):\n",
    "        st.markdown(response)\n",
    "    # Add assistant response to chat history\n",
    "    st.session_state.messages.append({\"role\": \"assistant\", \"content\": response})"
   ]
  }
 ],
 "metadata": {
  "kernelspec": {
   "display_name": "genai",
   "language": "python",
   "name": "python3"
  },
  "language_info": {
   "codemirror_mode": {
    "name": "ipython",
    "version": 3
   },
   "file_extension": ".py",
   "mimetype": "text/x-python",
   "name": "python",
   "nbconvert_exporter": "python",
   "pygments_lexer": "ipython3",
   "version": "3.11.6"
  }
 },
 "nbformat": 4,
 "nbformat_minor": 2
}
