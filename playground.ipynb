{
 "cells": [
  {
   "cell_type": "code",
   "execution_count": 11,
   "metadata": {},
   "outputs": [],
   "source": [
    "from langchain.document_loaders import PyPDFDirectoryLoader\n",
    "import re\n",
    "from sentence_transformers import SentenceTransformer, util"
   ]
  },
  {
   "cell_type": "code",
   "execution_count": 3,
   "metadata": {},
   "outputs": [],
   "source": [
    "loader = PyPDFDirectoryLoader(\"fichas/\")"
   ]
  },
  {
   "cell_type": "code",
   "execution_count": 4,
   "metadata": {},
   "outputs": [],
   "source": [
    "docs = loader.load()"
   ]
  },
  {
   "cell_type": "code",
   "execution_count": 32,
   "metadata": {},
   "outputs": [],
   "source": [
    "my_dict = {}\n",
    "for doc in docs:\n",
    "    try:\n",
    "        my_dict[doc.metadata[\"source\"]] += doc.page_content\n",
    "    except:\n",
    "        my_dict[doc.metadata[\"source\"]] = doc.page_content"
   ]
  },
  {
   "cell_type": "code",
   "execution_count": 6,
   "metadata": {},
   "outputs": [],
   "source": [
    "SENTENCE_TRANSFORMER = SentenceTransformer(\"intfloat/multilingual-e5-large\")"
   ]
  },
  {
   "cell_type": "code",
   "execution_count": 33,
   "metadata": {},
   "outputs": [],
   "source": [
    "secciones = [\"REQUISITOS (ASIGNATURAS O MATERIAS CUYO CONOCIMIENTO SE PRESUPONE)\",\n",
    "             \"OBJETIVOS\",\n",
    "             \"DESCRIPCIÓN DE CONTENIDOS: PROGRAMA\",\n",
    "             \"ACTIVIDADES FORMATIVAS, METODOLOGÍA A UTILIZAR Y RÉGIMEN DE TUTORÍAS\",\n",
    "             \"SISTEMA DE EVALUACIÓN\",\n",
    "             \"BIBLIOGRAFÍA BÁSICA\"]\n",
    "\n",
    "pag_regex = re.compile(r'Página \\d+ de \\d+')\n",
    "corpus = []\n",
    "vecs = []\n",
    "\n",
    "for _, texto in my_dict.items():\n",
    "    title = texto[: texto.find(\"Departamento\")].upper()\n",
    "\n",
    "    for sec, next_sec in zip(secciones, secciones[1:] + [None]):\n",
    "        start_index = texto.find(sec)\n",
    "        end_index = texto.find(next_sec) if next_sec is not None else None\n",
    "        \n",
    "        if start_index != -1:\n",
    "            contenido = texto[start_index + len(sec):end_index]\n",
    "            chunk = title + sec + contenido\n",
    "            chunk = chunk.replace(\"\\n\", \" \")\n",
    "            chunk = re.sub(pag_regex, \"\", chunk)\n",
    "            vec = SENTENCE_TRANSFORMER.encode(chunk)\n",
    "            corpus.append(chunk)\n",
    "            vecs.append(vec)"
   ]
  },
  {
   "cell_type": "code",
   "execution_count": 68,
   "metadata": {},
   "outputs": [
    {
     "name": "stdout",
     "output_type": "stream",
     "text": [
      "Pregunta: como se evalua redes neuronales?\n",
      "Similarity Score: 0.8720\n",
      "REDES DE NEURONAS SISTEMA DE EVALUACIÓN La evaluación continua consistirá en exámenes parciales, realización de prácticas y proyectos de programación y presentación de trabajos. SE 2 Trabajos individuales o en grupo realizados durante el curso La evaluación extraordinaria consistirá en un examen final. SE 3 Examen final Peso porcentual del Examen Final: 0 Peso porcentual del resto de la evaluación: 100 \n",
      "\n",
      "\n",
      "Las redes neuronales son evaluadas mediante un examen final con un peso del 0% y el resto de la evaluación con un peso del 100%. \n",
      "\n",
      "Pregunta: que libros tengo que comprar para evolutiva\n",
      "Similarity Score: 0.8443\n",
      "COMPUTACIÓN EVOLUTIVA BIBLIOGRAFÍA BÁSICA  - D. Borrajo, J. Gonzalez, P. Isasi Aprendizaje Automático, Sanz y Torres, 2013  - D. Floreano, C. Mattiussi Bio-Inspired Artificial Intelligence: Theories, Methods, and Technologies, MIT Press, 2008  - E. Talbi Metaheuristics: From Design to Implementation, Wiley, 2009 \n",
      "\n",
      "¡Hola! Como asistente virtual, puedo recomendarte los siguientes libros para profundizar en el tema de la computación evolutiva:\n",
      "\n",
      "1. \"Aprendizaje Automático\" de D. Borrajo, J. Gonzalez y P. Isasi (2013) - Este libro proporciona una introducción completa al aprendizaje automático, incluyendo el fundamento teórico y las técnicas más comunes de aprendizaje evolutivo.\n",
      "2. \"Bio-Inspired Artificial Intelligence: Theories, Methods, and Technologies\" de D. Floreano y C. Mattiussi (2008) - Este libro explora las relaciones entre la inteligencia artificial y la biología, incluyendo técnicas evolutivas para el diseño de sistemas inteligentes.\n",
      "3. \"Metaheuristics: From Design to Implementation\" de E. Talbi (2009) - Este libro proporciona una visión general de los algoritmos evolutivos y sus aplicaciones en la resolución de problemas complejos, incluyendo el diseño de sistemas inteligentes.\n",
      "\n",
      "Espero que esta información sea útil para ti. ¡Si tienes más preguntas, no dudes en preguntar! \n",
      "\n",
      "Pregunta: cuanto cuenta el final de etica\n",
      "Similarity Score: 0.8524\n",
      "IMPLICACIONES ÉTICAS Y LEGALES DE LA IA SISTEMA DE EVALUACIÓN Participación en clase y en tutorías: 20% Entrega y exposición del trabajo: 50% Examen final: 30% En la convocatoria extraordinaria se realizará un examen final con la misma metodología empleada durante la convocatoria ordinaria Peso porcentual del Examen Final: 30 Peso porcentual del resto de la evaluación: 70 \n",
      "\n",
      "\n",
      "El examen final de Implicaciones Éticas y Legales de la IA Sistema de Evaluación cuenta por el 30% del total de la evaluación. \n",
      "\n",
      "Pregunta: que requisitos tiene multiagente\n",
      "Similarity Score: 0.8660\n",
      "AGENTES Y SISTEMAS MULTIAGENTE REQUISITOS (ASIGNATURAS O MATERIAS CUYO CONOCIMIENTO SE PRESUPONE) Programación \n",
      "\n"
     ]
    }
   ],
   "source": [
    "import requests\n",
    "\n",
    "questions = [\"como se evalua redes neuronales?\",\n",
    "             \"que libros tengo que comprar para evolutiva\",\n",
    "             \"cuanto cuenta el final de etica\",\n",
    "             \"que requisitos tiene multiagente\",\n",
    "             \"how much is the robotics final exam worth?\"]\n",
    "TOP_SCORES = 1\n",
    "\n",
    "for question in questions:\n",
    "    target_vector = SENTENCE_TRANSFORMER.encode(question)\n",
    "    cosine_similarities = util.pytorch_cos_sim(target_vector, vecs)[0]\n",
    "    document_similarity_pairs = list(zip(corpus, cosine_similarities.tolist()))\n",
    "    sorted_pairs = sorted(document_similarity_pairs, key=lambda x: x[1], reverse=True)\n",
    "    similar_docs = sorted_pairs[:TOP_SCORES]\n",
    "\n",
    "    for i, (title, score) in enumerate(similar_docs, start=1):\n",
    "        print(f\"Pregunta: {question}\\nSimilarity Score: {score:.4f}\\n{title}\\n\")\n",
    "        data = {\n",
    "            \"model\": \"llama2\",\n",
    "            \"prompt\": f\"Eres el asistente virtual del máster de Inteligencia Artificial Aplicada en la UC3M. Los estudiantes pueden hacerte preguntas sobre las asignaturas, y tú responderas con la información que te proporciono como contexto. Sé extremadamente breve. Sólo hablas español. Contexto: {title} Pregunta: {question} Respuesta: \",\n",
    "            \"stream\": False\n",
    "        }\n",
    "\n",
    "        response = requests.post(\"http://localhost:11434/api/generate\", json=data)\n",
    "        print(response.json()[\"response\"], \"\\n\")"
   ]
  }
 ],
 "metadata": {
  "kernelspec": {
   "display_name": "genai",
   "language": "python",
   "name": "python3"
  },
  "language_info": {
   "codemirror_mode": {
    "name": "ipython",
    "version": 3
   },
   "file_extension": ".py",
   "mimetype": "text/x-python",
   "name": "python",
   "nbconvert_exporter": "python",
   "pygments_lexer": "ipython3",
   "version": "3.9.6"
  }
 },
 "nbformat": 4,
 "nbformat_minor": 2
}
