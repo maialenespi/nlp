{
 "cells": [
  {
   "cell_type": "code",
   "execution_count": 18,
   "metadata": {},
   "outputs": [],
   "source": [
    "from langchain.document_loaders import PyPDFDirectoryLoader\n",
    "from sentence_transformers import SentenceTransformer, util\n",
    "import re\n",
    "import pickle"
   ]
  },
  {
   "cell_type": "code",
   "execution_count": 19,
   "metadata": {},
   "outputs": [],
   "source": [
    "def picklr(file, ob):\n",
    "    with open(file, 'wb') as f:\n",
    "        pickle.dump(ob, f)\n",
    "\n",
    "def unpicklr(file):\n",
    "    with open(file, 'rb') as f:\n",
    "        ob = pickle.load(f)\n",
    "    return ob"
   ]
  },
  {
   "cell_type": "code",
   "execution_count": 9,
   "metadata": {},
   "outputs": [],
   "source": [
    "loader = PyPDFDirectoryLoader(\"fichas/\")"
   ]
  },
  {
   "cell_type": "code",
   "execution_count": 11,
   "metadata": {},
   "outputs": [],
   "source": [
    "docs = loader.load()"
   ]
  },
  {
   "cell_type": "code",
   "execution_count": 12,
   "metadata": {},
   "outputs": [],
   "source": [
    "my_dict = {}\n",
    "for doc in docs:\n",
    "    try:\n",
    "        my_dict[doc.metadata[\"source\"]] += doc.page_content\n",
    "    except:\n",
    "        my_dict[doc.metadata[\"source\"]] = doc.page_content"
   ]
  },
  {
   "cell_type": "code",
   "execution_count": 13,
   "metadata": {},
   "outputs": [],
   "source": [
    "SENTENCE_TRANSFORMER = SentenceTransformer(\"intfloat/multilingual-e5-large\")"
   ]
  },
  {
   "cell_type": "code",
   "execution_count": 14,
   "metadata": {},
   "outputs": [],
   "source": [
    "secciones = [\"REQUISITOS (ASIGNATURAS O MATERIAS CUYO CONOCIMIENTO SE PRESUPONE)\",\n",
    "             \"OBJETIVOS\",\n",
    "             \"DESCRIPCIÓN DE CONTENIDOS: PROGRAMA\",\n",
    "             \"ACTIVIDADES FORMATIVAS, METODOLOGÍA A UTILIZAR Y RÉGIMEN DE TUTORÍAS\",\n",
    "             \"SISTEMA DE EVALUACIÓN\",\n",
    "             \"BIBLIOGRAFÍA BÁSICA\"]\n",
    "\n",
    "pag_regex = re.compile(r'Página \\d+ de \\d+')\n",
    "corpus = []\n",
    "vecs = []\n",
    "\n",
    "for _, texto in my_dict.items():\n",
    "    title = texto[: texto.find(\"Departamento\")].upper()\n",
    "\n",
    "    for sec, next_sec in zip(secciones, secciones[1:] + [None]):\n",
    "        start_index = texto.find(sec)\n",
    "        end_index = texto.find(next_sec) if next_sec is not None else None\n",
    "        \n",
    "        if start_index != -1:\n",
    "            contenido = texto[start_index + len(sec):end_index]\n",
    "            chunk = title + sec + contenido\n",
    "            chunk = chunk.replace(\"\\n\", \" \")\n",
    "            chunk = re.sub(pag_regex, \"\", chunk)\n",
    "            vec = SENTENCE_TRANSFORMER.encode(chunk)\n",
    "            corpus.append(chunk)\n",
    "            vecs.append(vec)\n",
    "\n"
   ]
  },
  {
   "cell_type": "code",
   "execution_count": 25,
   "metadata": {},
   "outputs": [],
   "source": [
    "picklr(\"./ingested_data/corpus.pkl\", corpus)\n",
    "picklr(\"./ingested_data/vecs.pkl\", vecs)"
   ]
  },
  {
   "cell_type": "code",
   "execution_count": 26,
   "metadata": {},
   "outputs": [],
   "source": [
    "corpus = unpicklr(\"./ingested_data/corpus.pkl\")\n",
    "vecs = unpicklr(\"./ingested_data/vecs.pkl\")"
   ]
  },
  {
   "cell_type": "code",
   "execution_count": 28,
   "metadata": {},
   "outputs": [
    {
     "name": "stdout",
     "output_type": "stream",
     "text": [
      "Pregunta: como se evalua redes neuronales?\n",
      "Similarity Score: 0.8720\n",
      "REDES DE NEURONAS SISTEMA DE EVALUACIÓN La evaluación continua consistirá en exámenes parciales, realización de prácticas y proyectos de programación y presentación de trabajos. SE 2 Trabajos individuales o en grupo realizados durante el curso La evaluación extraordinaria consistirá en un examen final. SE 3 Examen final Peso porcentual del Examen Final: 0 Peso porcentual del resto de la evaluación: 100 \n",
      "\n",
      "\n",
      "Las redes neuronales son evaluadas mediante un examen final de 0% y el resto de la evaluación es de 100%. \n",
      "\n",
      "Pregunta: que libros tengo que comprar para evolutiva\n",
      "Similarity Score: 0.8443\n",
      "COMPUTACIÓN EVOLUTIVA BIBLIOGRAFÍA BÁSICA  - D. Borrajo, J. Gonzalez, P. Isasi Aprendizaje Automático, Sanz y Torres, 2013  - D. Floreano, C. Mattiussi Bio-Inspired Artificial Intelligence: Theories, Methods, and Technologies, MIT Press, 2008  - E. Talbi Metaheuristics: From Design to Implementation, Wiley, 2009 \n",
      "\n",
      " ¡Hola! Como asistente virtual, puedo recomendarte los siguientes libros para profundizar en el tema de la computación evolutiva:\n",
      "\n",
      "1. \"Aprendizaje Automático\" de D. Borrajo, J. Gonzalez y P. Isasi (2013) - Este libro ofrece una visión general completa del aprendizaje automático, incluyendo técnicas clásicas y avanzadas, así como algoritmos y herramientas de implementación.\n",
      "2. \"Bio-Inspired Artificial Intelligence: Theories, Methods, and Technologies\" de D. Floreano y C. Mattiussi (2008) - Este libro explora la inspiración biológica en el diseño de sistemas de inteligencia artificial, incluyendo técnicas de aprendizaje automático, visión computacional y robótica.\n",
      "3. \"Metaheuristics: From Design to Implementation\" de E. Talbi (2009) - Este libro ofrece una visión general completa de los metaheuristicos, que son algoritmos de búsqueda de soluciones aproximadas para problemas complexos, incluyendo técnicas de aprendizaje automático y otras técnicas evolutivas.\n",
      "\n",
      "Espero que estas recomendaciones te sean útiles en tu estudio de la computación evolutiva. ¡Buena suerte en tus estudios! \n",
      "\n",
      "Pregunta: cuanto cuenta el final de etica\n",
      "Similarity Score: 0.8524\n",
      "IMPLICACIONES ÉTICAS Y LEGALES DE LA IA SISTEMA DE EVALUACIÓN Participación en clase y en tutorías: 20% Entrega y exposición del trabajo: 50% Examen final: 30% En la convocatoria extraordinaria se realizará un examen final con la misma metodología empleada durante la convocatoria ordinaria Peso porcentual del Examen Final: 30 Peso porcentual del resto de la evaluación: 70 \n",
      "\n",
      "\n",
      "El examen final de ética cuenta por el 30% de la evaluación global del curso. \n",
      "\n",
      "Pregunta: que requisitos tiene multiagente\n",
      "Similarity Score: 0.8660\n",
      "AGENTES Y SISTEMAS MULTIAGENTE REQUISITOS (ASIGNATURAS O MATERIAS CUYO CONOCIMIENTO SE PRESUPONE) Programación \n",
      "\n",
      "\n",
      " ¡Hola! Como asistente virtual de la materia \"Agentes y Sistemas Multiagentes\", puedo ayudarte a responder a cualquier pregunta que tengas sobre el tema. En cuanto a los requisitos de un multiagente, pueden ser clasificados en dos categorías principales: requisitos funcionales y requisitos no funcionales.\n",
      "\n",
      "Requisitos funcionales son aquellos que se refieren a la capacidad del sistema multiagente para realizar tareas específicas, como comunicación entre agentes, negociación, colaboración, etc. Algunos ejemplos de requisitos funcionales podrían ser:\n",
      "\n",
      "* Capacidad de intercambio de información y recursos entre los agentes.\n",
      "* Funcionalidad para resolver problemas de cooperación y conflicto entre los agentes.\n",
      "* Capacidad de aprendizaje y adaptación a nuevas situaciones.\n",
      "\n",
      "Requisitos no funcionales, por otro lado, se refieren a las características del sistema multiagente que no son directamente relacionadas con su capacidad para realizar tareas específicas, sino más bien con su comportamiento y desempeño en general. Algunos ejemplos de requisitos no funcionales podrían ser:\n",
      "\n",
      "* Capacidad de manejo de la complejidad del sistema multiagente.\n",
      "* Eficiencia energética y recursos del sistema.\n",
      "* Flexibilidad y capacidad de adaptación al cambio.\n",
      "\n",
      "Espero que esta información te sea útil. Si tienes alguna pregunta adicional, no dudes en hacérmela saber. \n",
      "\n",
      "Pregunta: how much is the robotics final exam worth?\n",
      "Similarity Score: 0.8201\n",
      "ROBÓTICA INTELIGENTE SISTEMA DE EVALUACIÓN Sistemas de evaluación usados: SE1 - Participación en clase SE2 - Trabajos individuales o en grupo realizados durante el curso SE3 - Examen final Evaluación continua: 40% - sesiones prácticas: 30%  (mínimo un 5 sobre 10) - presentación de aplicación: 10% Examen final: 60% (mínimo un 5 sobre 10) Examen extraordinario: 100% con todo el contenido (incluyendo contenido de las sesiones prácticas) Peso porcentual del Examen Final: 60 Peso porcentual del resto de la evaluación: 40 \n",
      "\n",
      "El examen final de Robótica Inteligente en la UC3M es worth 60% del peso total de la evaluación. \n",
      "\n"
     ]
    }
   ],
   "source": [
    "import requests\n",
    "\n",
    "questions = [\"como se evalua redes neuronales?\",\n",
    "             \"que libros tengo que comprar para evolutiva\",\n",
    "             \"cuanto cuenta el final de etica\",\n",
    "             \"que requisitos tiene multiagente\",\n",
    "             \"how much is the robotics final exam worth?\"]\n",
    "TOP_SCORES = 1\n",
    "\n",
    "def search_closest_embed(question):\n",
    "    target_vector = SENTENCE_TRANSFORMER.encode(question)\n",
    "    cosine_similarities = util.pytorch_cos_sim(target_vector, vecs)[0]\n",
    "    document_similarity_pairs = list(zip(corpus, cosine_similarities.tolist()))\n",
    "    sorted_pairs = sorted(document_similarity_pairs, key=lambda x: x[1], reverse=True)\n",
    "    similar_docs = sorted_pairs[:TOP_SCORES]\n",
    "    return similar_docs\n",
    "\n",
    "for question in questions:\n",
    "    similar_docs = search_closest_embed(TOP_SCORES, question)\n",
    "    \n",
    "    print(f\"Pregunta: {question}\\nSimilarity Score: {score:.4f}\\n{title}\\n\")\n",
    "    data = {\n",
    "            \"model\": \"llama2\",\n",
    "            \"prompt\": f\"Eres el asistente virtual del máster de Inteligencia Artificial Aplicada en la UC3M. Los estudiantes pueden hacerte preguntas sobre las asignaturas, y tú responderas con la información que te proporciono como contexto. Sé extremadamente breve. Sólo hablas español. Contexto: {title} Pregunta: {question} Respuesta: \",\n",
    "            \"stream\": False\n",
    "    }\n",
    "\n",
    "    response = requests.post(\"http://localhost:11434/api/generate\", json=data)\n",
    "    print(response.json()[\"response\"], \"\\n\")"
   ]
  }
 ],
 "metadata": {
  "kernelspec": {
   "display_name": "genai",
   "language": "python",
   "name": "python3"
  },
  "language_info": {
   "codemirror_mode": {
    "name": "ipython",
    "version": 3
   },
   "file_extension": ".py",
   "mimetype": "text/x-python",
   "name": "python",
   "nbconvert_exporter": "python",
   "pygments_lexer": "ipython3",
   "version": "3.11.6"
  }
 },
 "nbformat": 4,
 "nbformat_minor": 2
}
